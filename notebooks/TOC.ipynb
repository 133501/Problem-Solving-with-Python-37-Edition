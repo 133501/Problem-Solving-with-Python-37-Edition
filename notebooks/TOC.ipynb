{
 "cells": [
  {
   "cell_type": "markdown",
   "metadata": {},
   "source": [
    "# Python for Undergraduate Engineers 3.7 Edition\n",
    "\n",
    "# Table of Contents\n",
    "\n",
    "## Preface\n",
    "\n",
    "## Chapter 1. Orientation\n",
    "\n",
    "## Chapter 2. Jupyter Notebooks\n",
    " \n",
    "## Chapter 3. The Python REPL\n",
    "\n",
    "## Chapter 4. Data Types and Variables\n",
    "\n",
    "## Chapter 5. Matrices and Arrays\n",
    "\n",
    "## Chapter 6. Plotting with Matplotlib\n",
    "\n",
    "## Chapter 7. Functions and Modules\n",
    "\n",
    "## Chapter 8. If Else Try Except\n",
    "\n",
    "## Chapter 9. Loops\n",
    "\n",
    "## Chapter 10. Symbolic Math\n",
    "\n",
    "## Chapter 11. Python and External Hardware\n",
    "\n",
    "## Chapter 12. MicroPython\n",
    "\n",
    "## Appendix\n"
   ]
  },
  {
   "cell_type": "code",
   "execution_count": null,
   "metadata": {},
   "outputs": [],
   "source": []
  }
 ],
 "metadata": {
  "kernelspec": {
   "display_name": "Python 3",
   "language": "python",
   "name": "python3"
  },
  "language_info": {
   "codemirror_mode": {
    "name": "ipython",
    "version": 3
   },
   "file_extension": ".py",
   "mimetype": "text/x-python",
   "name": "python",
   "nbconvert_exporter": "python",
   "pygments_lexer": "ipython3",
   "version": "3.7.3"
  }
 },
 "nbformat": 4,
 "nbformat_minor": 2
}
