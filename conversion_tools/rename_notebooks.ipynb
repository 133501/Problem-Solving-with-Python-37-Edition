{
 "cells": [
  {
   "cell_type": "code",
   "execution_count": 112,
   "metadata": {},
   "outputs": [],
   "source": [
    "from pathlib import Path\n",
    "import os\n",
    "import sys\n",
    "from pprint import pprint"
   ]
  },
  {
   "cell_type": "code",
   "execution_count": 131,
   "metadata": {},
   "outputs": [
    {
     "data": {
      "text/plain": [
       "PosixPath('/home/tribilium/Documents/pswp38/notebooks')"
      ]
     },
     "execution_count": 131,
     "metadata": {},
     "output_type": "execute_result"
    }
   ],
   "source": [
    "cwd = Path(os.getcwd())\n",
    "notebooks_dir = Path(cwd.parent, 'notebooks')\n",
    "notebooks_dir"
   ]
  },
  {
   "cell_type": "code",
   "execution_count": 132,
   "metadata": {
    "scrolled": true
   },
   "outputs": [
    {
     "name": "stdout",
     "output_type": "stream",
     "text": [
      "['00-Preface',\n",
      " '01-Orientation',\n",
      " '02-Jupyter-Notebooks',\n",
      " '03-The-Python-REPL',\n",
      " '04-Data-Types-and-Variables',\n",
      " '05-Matricies-and-Arrays',\n",
      " '06-Plotting-with-Matplotlib',\n",
      " '07-Functions-and-Modules',\n",
      " '08-If-Else-Try-Except',\n",
      " '09-Loops',\n",
      " '10-Symbolic-Math',\n",
      " '11-Python-and-External-Hardware',\n",
      " '12-MicroPython',\n",
      " '99-Appendix',\n",
      " 'TOC.ipynb',\n",
      " 'figures']\n"
     ]
    }
   ],
   "source": [
    "pprint(sorted(os.listdir(notebooks_dir)))"
   ]
  },
  {
   "cell_type": "code",
   "execution_count": 124,
   "metadata": {},
   "outputs": [
    {
     "data": {
      "text/plain": [
       "PosixPath('/home/tribilium/Documents/pswp38/notebooks/08-Loops')"
      ]
     },
     "execution_count": 124,
     "metadata": {},
     "output_type": "execute_result"
    }
   ],
   "source": [
    "old_dir = '06-Functions-and-Modules'\n",
    "new_dir = '07-Functions-and-Modules'\n",
    "old_num = old_dir.split('-')[0]\n",
    "new_num = new_dir.split('-')[0]\n",
    "#print(type(old_num))\n",
    "nb_ch_dir = Path(notebooks_dir,old_dir)\n",
    "nb_ch_dir"
   ]
  },
  {
   "cell_type": "code",
   "execution_count": 125,
   "metadata": {},
   "outputs": [
    {
     "data": {
      "text/plain": [
       "True"
      ]
     },
     "execution_count": 125,
     "metadata": {},
     "output_type": "execute_result"
    }
   ],
   "source": [
    "new_dir_path = Path(notebooks_dir,new_dir)\n",
    "new_dir_path.mkdir(exist_ok=True)\n",
    "new_dir_path.is_dir()"
   ]
  },
  {
   "cell_type": "code",
   "execution_count": 126,
   "metadata": {},
   "outputs": [],
   "source": [
    "Path(notebooks_dir,new_dir,'images').mkdir(exist_ok=True)"
   ]
  },
  {
   "cell_type": "code",
   "execution_count": 127,
   "metadata": {},
   "outputs": [],
   "source": [
    "from pathlib import Path\n",
    "from pprint import pprint\n",
    "\n",
    "def searching_all_files(directory):\n",
    "    dirpath = Path(directory)\n",
    "    assert(dirpath.is_dir())\n",
    "    file_list = []\n",
    "    for x in dirpath.iterdir():\n",
    "        if x.is_file():\n",
    "            file_list.append(x)\n",
    "        elif x.is_dir():\n",
    "            file_list.extend(searching_all_files(x))\n",
    "    return file_list\n",
    "\n",
    "#pprint(searching_all_files('.'))"
   ]
  },
  {
   "cell_type": "code",
   "execution_count": 128,
   "metadata": {},
   "outputs": [
    {
     "name": "stdout",
     "output_type": "stream",
     "text": [
      "[PosixPath('/home/tribilium/Documents/pswp38/notebooks/08-Loops/08.03-Break-and-Continue.ipynb'),\n",
      " PosixPath('/home/tribilium/Documents/pswp38/notebooks/08-Loops/08.05-Summary.ipynb'),\n",
      " PosixPath('/home/tribilium/Documents/pswp38/notebooks/08-Loops/08.04-Flowcharts-Describing-Loops.ipynb'),\n",
      " PosixPath('/home/tribilium/Documents/pswp38/notebooks/08-Loops/08.06-Review-Questions.ipynb'),\n",
      " PosixPath('/home/tribilium/Documents/pswp38/notebooks/08-Loops/images/four_flow_chart_shapes.xml'),\n",
      " PosixPath('/home/tribilium/Documents/pswp38/notebooks/08-Loops/images/flow_chart_of_program_that_contains_a_while_loop.xml'),\n",
      " PosixPath('/home/tribilium/Documents/pswp38/notebooks/08-Loops/images/flow_chart_of_program_that_contains_a_while_loop.png'),\n",
      " PosixPath('/home/tribilium/Documents/pswp38/notebooks/08-Loops/images/four_flow_chart_shapes.png'),\n",
      " PosixPath('/home/tribilium/Documents/pswp38/notebooks/08-Loops/images/flow_chart_of_program_that_contains_a_for_loop.png'),\n",
      " PosixPath('/home/tribilium/Documents/pswp38/notebooks/08-Loops/images/flow_chart_of_program_that_contains_a_for_loop.xml'),\n",
      " PosixPath('/home/tribilium/Documents/pswp38/notebooks/08-Loops/08.01-For-Loops.ipynb'),\n",
      " PosixPath('/home/tribilium/Documents/pswp38/notebooks/08-Loops/08.02-While-Loops.ipynb'),\n",
      " PosixPath('/home/tribilium/Documents/pswp38/notebooks/08-Loops/08.00-Introduction.ipynb')]\n"
     ]
    }
   ],
   "source": [
    "path_lst = searching_all_files(nb_ch_dir)\n",
    "pprint(path_lst)"
   ]
  },
  {
   "cell_type": "code",
   "execution_count": 129,
   "metadata": {
    "scrolled": true
   },
   "outputs": [
    {
     "name": "stdout",
     "output_type": "stream",
     "text": [
      "old path: /home/tribilium/Documents/pswp38/notebooks/08-Loops/08.03-Break-and-Continue.ipynb\n",
      "new path: /home/tribilium/Documents/pswp38/notebooks/09-Loops/08.03-Break-and-Continue.ipynb\n",
      "renamed to /home/tribilium/Documents/pswp38/notebooks/08-Loops/08.03-Break-and-Continue.ipynb\n",
      "old path: /home/tribilium/Documents/pswp38/notebooks/08-Loops/08.05-Summary.ipynb\n",
      "new path: /home/tribilium/Documents/pswp38/notebooks/09-Loops/08.05-Summary.ipynb\n",
      "renamed to /home/tribilium/Documents/pswp38/notebooks/08-Loops/08.05-Summary.ipynb\n",
      "old path: /home/tribilium/Documents/pswp38/notebooks/08-Loops/08.04-Flowcharts-Describing-Loops.ipynb\n",
      "new path: /home/tribilium/Documents/pswp38/notebooks/09-Loops/08.04-Flowcharts-Describing-Loops.ipynb\n",
      "renamed to /home/tribilium/Documents/pswp38/notebooks/08-Loops/08.04-Flowcharts-Describing-Loops.ipynb\n",
      "old path: /home/tribilium/Documents/pswp38/notebooks/08-Loops/08.06-Review-Questions.ipynb\n",
      "new path: /home/tribilium/Documents/pswp38/notebooks/09-Loops/08.06-Review-Questions.ipynb\n",
      "renamed to /home/tribilium/Documents/pswp38/notebooks/08-Loops/08.06-Review-Questions.ipynb\n",
      "old path: /home/tribilium/Documents/pswp38/notebooks/08-Loops/images/four_flow_chart_shapes.xml\n",
      "new path: /home/tribilium/Documents/pswp38/notebooks/09-Loops/images/four_flow_chart_shapes.xml\n",
      "renamed to /home/tribilium/Documents/pswp38/notebooks/08-Loops/images/four_flow_chart_shapes.xml\n",
      "old path: /home/tribilium/Documents/pswp38/notebooks/08-Loops/images/flow_chart_of_program_that_contains_a_while_loop.xml\n",
      "new path: /home/tribilium/Documents/pswp38/notebooks/09-Loops/images/flow_chart_of_program_that_contains_a_while_loop.xml\n",
      "renamed to /home/tribilium/Documents/pswp38/notebooks/08-Loops/images/flow_chart_of_program_that_contains_a_while_loop.xml\n",
      "old path: /home/tribilium/Documents/pswp38/notebooks/08-Loops/images/flow_chart_of_program_that_contains_a_while_loop.png\n",
      "new path: /home/tribilium/Documents/pswp38/notebooks/09-Loops/images/flow_chart_of_program_that_contains_a_while_loop.png\n",
      "renamed to /home/tribilium/Documents/pswp38/notebooks/08-Loops/images/flow_chart_of_program_that_contains_a_while_loop.png\n",
      "old path: /home/tribilium/Documents/pswp38/notebooks/08-Loops/images/four_flow_chart_shapes.png\n",
      "new path: /home/tribilium/Documents/pswp38/notebooks/09-Loops/images/four_flow_chart_shapes.png\n",
      "renamed to /home/tribilium/Documents/pswp38/notebooks/08-Loops/images/four_flow_chart_shapes.png\n",
      "old path: /home/tribilium/Documents/pswp38/notebooks/08-Loops/images/flow_chart_of_program_that_contains_a_for_loop.png\n",
      "new path: /home/tribilium/Documents/pswp38/notebooks/09-Loops/images/flow_chart_of_program_that_contains_a_for_loop.png\n",
      "renamed to /home/tribilium/Documents/pswp38/notebooks/08-Loops/images/flow_chart_of_program_that_contains_a_for_loop.png\n",
      "old path: /home/tribilium/Documents/pswp38/notebooks/08-Loops/images/flow_chart_of_program_that_contains_a_for_loop.xml\n",
      "new path: /home/tribilium/Documents/pswp38/notebooks/09-Loops/images/flow_chart_of_program_that_contains_a_for_loop.xml\n",
      "renamed to /home/tribilium/Documents/pswp38/notebooks/08-Loops/images/flow_chart_of_program_that_contains_a_for_loop.xml\n",
      "old path: /home/tribilium/Documents/pswp38/notebooks/08-Loops/08.01-For-Loops.ipynb\n",
      "new path: /home/tribilium/Documents/pswp38/notebooks/09-Loops/08.01-For-Loops.ipynb\n",
      "renamed to /home/tribilium/Documents/pswp38/notebooks/08-Loops/08.01-For-Loops.ipynb\n",
      "old path: /home/tribilium/Documents/pswp38/notebooks/08-Loops/08.02-While-Loops.ipynb\n",
      "new path: /home/tribilium/Documents/pswp38/notebooks/09-Loops/08.02-While-Loops.ipynb\n",
      "renamed to /home/tribilium/Documents/pswp38/notebooks/08-Loops/08.02-While-Loops.ipynb\n",
      "old path: /home/tribilium/Documents/pswp38/notebooks/08-Loops/08.00-Introduction.ipynb\n",
      "new path: /home/tribilium/Documents/pswp38/notebooks/09-Loops/08.00-Introduction.ipynb\n",
      "renamed to /home/tribilium/Documents/pswp38/notebooks/08-Loops/08.00-Introduction.ipynb\n"
     ]
    }
   ],
   "source": [
    "for f in path_lst:\n",
    "    #print(f.parts)\n",
    "    new_f = []\n",
    "    for part in f.parts:\n",
    "        if part == old_dir:\n",
    "            part = new_dir\n",
    "        new_f.append(part)\n",
    "    target = Path(f.root,*[p for p in new_f if not p=='/'])\n",
    "    print(f'old path: {f}')\n",
    "    print(f'new path: {target}')\n",
    "    #print(type(target))\n",
    "    #print(f.is_file())\n",
    "    #print(target.is_file())\n",
    "    target.touch(exist_ok=True)\n",
    "    #print(target.is_file())\n",
    "    f.rename(target)\n",
    "    print(f'renamed to {f}')\n",
    "        "
   ]
  },
  {
   "cell_type": "code",
   "execution_count": 130,
   "metadata": {},
   "outputs": [],
   "source": [
    "nb_ch_dir = Path(notebooks_dir,new_dir)\n",
    "for f in nb_ch_dir.iterdir():\n",
    "    #print(f)\n",
    "    if f.is_file():\n",
    "        fn = f.stem\n",
    "        extension = f.suffix\n",
    "        f_parent = f.parent\n",
    "        new_f_lst =fn.split('.')\n",
    "        if new_f_lst[0]== old_num:\n",
    "            new_f_lst[0] = new_num\n",
    "            #new_f_lst.append(extension)\n",
    "        target = Path(f_parent,(\".\".join(new_f_lst)+extension))\n",
    "        f.rename(target)\n",
    "    "
   ]
  },
  {
   "cell_type": "code",
   "execution_count": null,
   "metadata": {},
   "outputs": [],
   "source": []
  },
  {
   "cell_type": "code",
   "execution_count": null,
   "metadata": {},
   "outputs": [],
   "source": []
  }
 ],
 "metadata": {
  "kernelspec": {
   "display_name": "Python 3",
   "language": "python",
   "name": "python3"
  },
  "language_info": {
   "codemirror_mode": {
    "name": "ipython",
    "version": 3
   },
   "file_extension": ".py",
   "mimetype": "text/x-python",
   "name": "python",
   "nbconvert_exporter": "python",
   "pygments_lexer": "ipython3",
   "version": "3.6.8"
  }
 },
 "nbformat": 4,
 "nbformat_minor": 2
}
