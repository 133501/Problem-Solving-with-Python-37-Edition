{
 "cells": [
  {
   "cell_type": "markdown",
   "metadata": {},
   "source": [
    "## Review Questions"
   ]
  },
  {
   "cell_type": "markdown",
   "metadata": {},
   "source": [
    "#### Array Creation"
   ]
  },
  {
   "cell_type": "markdown",
   "metadata": {
    "latex": {
     "environment": "problems"
    }
   },
   "source": [
    "Q05.01 Create an array of the numbers 1, 5, 19, 30\n",
    "\n",
    "Q05.02 Create an array of the numbers -3, 15, 0.001, 6.02e23$\n",
    "\n",
    "Q05.03 Create an array of integers between -10 and 10\n",
    "\n",
    "Q05.04 Create an array of 10 angles between 0 and 2$\\pi$\n",
    "\n",
    "Q05.05 Create an array of logarithmically spaced numbers between 1 and 1 million\n",
    "\n",
    "Q05.06 Create an array of 20 random integers between 1 and 10\n",
    "\n",
    "Q05.07 Create an array of 30 random numbers with a normal distribution\n",
    "\n",
    "Q05.08 Create an array of 30 random numbers with a normal distribution that has an mean $\\mu$ of 78.5 and a standard deviation $\\sigma$ of 5.2\n",
    "\n",
    "Q05.09 Create an array of 18 random floating point numbers between 0 and 1\n",
    "\n",
    "Q05.10 Create an array of 18 random floating point numbers between -1 and 0\n",
    "\n",
    "Q05.11 Create an array of 18 random floating point numbers between 0 and 10\n",
    "\n",
    "Q05.12 Create a variable $x$ that is an NumPy array which contains values 0, 0.1, 0.2, ..., 4.9, 5.0.  Hard coding the values one will be time consuming, use a NumPy function to create the array instead.\n",
    "\n",
    "Q05.13 Create a Python list containing the values 1, 2, 5.6, and 9 and store the Python list in a variable called ```x```.  Then create a NumPy array of the same values and store it in a variable called ``y```."
   ]
  },
  {
   "cell_type": "markdown",
   "metadata": {},
   "source": [
    "#### Array Manipulation"
   ]
  },
  {
   "cell_type": "markdown",
   "metadata": {},
   "source": [
    "Q05.20 Create a NumPy array called ```A``` and store the values 5, 8, -8, 99, and 0 in array ```A``` in a single row. Reshape ```A``` to a single column array with one column and 5 rows.\n",
    "\n"
   ]
  },
  {
   "cell_type": "markdown",
   "metadata": {},
   "source": [
    "#### Array Slicing"
   ]
  },
  {
   "cell_type": "markdown",
   "metadata": {},
   "source": [
    "Q05.30 Create an array ```A``` that contains the values 0 to 24 in one row.  Then reshape ```A``` into a 5 row by 5 column array.\n",
    "\n",
    "(a) Extract the 2nd row from ```A```.  Store it as a one column array called ```x```.\n",
    "\n",
    "(b) Store the number of elements in array ```x``` in a new variable called ```y```. \n",
    "\n",
    "(c) Extract the last column of ```A``` and store it in an array called ```z```.  \n",
    "\n",
    "(d) Store a transposed version of ```A``` in an array called ```t```.\n",
    "\n",
    "Q05.31 Run the following code to create a NumPy array ```A```\n",
    "\n",
    "```A = np.array(range(11)) + 5```\n",
    "\n",
    "(a) Extract the 4th value in array ```A``` into a variable called ```x```.\n",
    "\n",
    "(b) Extract the 2nd-to-last value in array ```A``` into a variable called ```y```.\n",
    "\n",
    "(c) Extract the values from array ```A``` starting from the 3rd value up to and including the 7th value into a variable called ```z```.\n",
    "\n",
    "Q05.32 Run the following code to create a NumPy array ```B```\n",
    "\n",
    "```B = np.array(range(18)) + 3```\n",
    "\n",
    "(a) Extract every other value from array ```B``` starting from the 2nd value through the 10th value.  Store the result in a variable called ```x```.\n",
    "\n",
    "(b) Extract every other value from array ```B``` starting from the 10th value through the 2nd value.  Store the result a variable called ```y```.\n",
    "\n",
    "(c) Create a variable ```z``` that contains all of the values in ```B``` in reverse order.\n"
   ]
  },
  {
   "cell_type": "markdown",
   "metadata": {},
   "source": [
    "#### Meshgrids"
   ]
  },
  {
   "cell_type": "markdown",
   "metadata": {},
   "source": [
    "Q05.40 Create two 2D arrays from the two 1D arrays below using NumPy's ```np.meshgrid()``` function. \n",
    "\n",
    "```text\n",
    "\n",
    "x = [0.0, 0.1., 0.2, 0.3, 0.4, 0.5]\n",
    "\n",
    "y = [0, 2, 4, 6]\n",
    "```\n",
    "\n",
    "Q05.41 Create a meshgrid of the two arrays below:\n",
    "\n",
    "```text\n",
    "\n",
    "x = [1, 2, 3, 4, 5, 6, 7, 8, 9, 10]\n",
    "\n",
    "y = [1, 2, 3, 4, 5, 6, 7, 8, 9, 10]\n",
    "```\n",
    "\n",
    "Use element-wise multiplication to multiple each element in one of the resulting 2D arrays with the other resulting 2D array to build a multiplication table."
   ]
  },
  {
   "cell_type": "markdown",
   "metadata": {},
   "source": [
    "#### Array Operations\n",
    "\n",
    "Q05.50 Create the two arrays below and perform each calculation.\n",
    "\n",
    "a = [2 4 6]\n",
    "\n",
    "b = [-1 0 1]\n",
    "\n",
    "(a) $a + b$\n",
    "\n",
    "(b) $1.5a -2b$\n",
    "\n",
    "(c) $0.5ab$\n",
    "\n",
    "(d) $\\frac{b^2}{a}$\n",
    "\n",
    "\n",
    "Q05.51 Create an array of angles between 0 and 2$\\pi$ radians in increments of $\\pi/2 radians$.\n",
    "\n",
    "(a) Calculate the sine of each angle in the array\n",
    "\n",
    "(b) Calculate the cosine of each angle in the array\n",
    "\n",
    "(c) Convert each angle in the array to degrees\n",
    "\n",
    "Q05.52 Create the two arrays below and then perform the following operations.\n",
    "\n",
    "F1 = [-1, 0, 2]\n",
    "\n",
    "F2 = [5, -2, 0]\n",
    "\n",
    "(a) Calculate the dot product of F1 and F2\n",
    "\n",
    "(b) Calculate cross product of F1 and F2\n",
    "\n",
    "(c) Calculate the element-wise product (element-wise multiplication of F1 and F2)"
   ]
  },
  {
   "cell_type": "markdown",
   "metadata": {},
   "source": [
    "#### Linear Algebra"
   ]
  },
  {
   "cell_type": "markdown",
   "metadata": {},
   "source": [
    "Q05.70 Use the system of linear equations below to calculate the values of $x$ and $y$.\n",
    "\n",
    "$$ 4x - 2y = -42 $$\n",
    "\n",
    "$$ -6x + y = 31 $$\n",
    "\n",
    "Q05.71 Use the system of linear equations below to calculate the values of $x$, $y$ and $z$.\n",
    "\n",
    "$$ \\frac{x}{2} +2y - z = 5 $$\n",
    "\n",
    "$$ x + 3y - 4z = -1 $$\n",
    "\n",
    "$$ -x - 3y + 2z = -5 $$"
   ]
  },
  {
   "cell_type": "code",
   "execution_count": null,
   "metadata": {},
   "outputs": [],
   "source": []
  }
 ],
 "metadata": {
  "kernelspec": {
   "display_name": "Python 3",
   "language": "python",
   "name": "python3"
  },
  "language_info": {
   "codemirror_mode": {
    "name": "ipython",
    "version": 3
   },
   "file_extension": ".py",
   "mimetype": "text/x-python",
   "name": "python",
   "nbconvert_exporter": "python",
   "pygments_lexer": "ipython3",
   "version": "3.7.3"
  }
 },
 "nbformat": 4,
 "nbformat_minor": 2
}
